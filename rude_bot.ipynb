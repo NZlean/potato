{
  "nbformat": 4,
  "nbformat_minor": 0,
  "metadata": {
    "colab": {
      "name": "rude_bot.ipynb",
      "provenance": [],
      "authorship_tag": "ABX9TyNtXyZ+xPNKy1s2CuGIzyBC",
      "include_colab_link": true
    },
    "kernelspec": {
      "name": "python3",
      "display_name": "Python 3"
    },
    "language_info": {
      "name": "python"
    }
  },
  "cells": [
    {
      "cell_type": "markdown",
      "metadata": {
        "id": "view-in-github",
        "colab_type": "text"
      },
      "source": [
        "<a href=\"https://colab.research.google.com/github/NZlean/potato/blob/master/rude_bot.ipynb\" target=\"_parent\"><img src=\"https://colab.research.google.com/assets/colab-badge.svg\" alt=\"Open In Colab\"/></a>"
      ]
    },
    {
      "cell_type": "code",
      "metadata": {
        "colab": {
          "base_uri": "https://localhost:8080/"
        },
        "id": "jRQnRoEKRLd8",
        "outputId": "863f3a60-849f-416d-f698-648468b8870d"
      },
      "source": [
        "!pip install nltk\n",
        "from nltk.chat.util import Chat, reflections"
      ],
      "execution_count": 3,
      "outputs": [
        {
          "output_type": "stream",
          "name": "stdout",
          "text": [
            "Requirement already satisfied: nltk in /usr/local/lib/python3.7/dist-packages (3.2.5)\n",
            "Requirement already satisfied: six in /usr/local/lib/python3.7/dist-packages (from nltk) (1.15.0)\n"
          ]
        }
      ]
    },
    {
      "cell_type": "code",
      "metadata": {
        "id": "zQdX7hzGQsYh"
      },
      "source": [
        "\n",
        "pairs = (\n",
        "   (\n",
        "       r\"We (.*)\",\n",
        "       (\n",
        "           \"What do you mean, 'we'?\",\n",
        "           \"Don't include me in that!\",\n",
        "           \"I wouldn't be so sure about that.\",\n",
        "       ),\n",
        "   ),\n",
        "   (\n",
        "       r\"You should (.*)\",\n",
        "       (\"Don't tell me what to do, buddy.\", \"Really? I should, should I?\"),\n",
        "   ),\n",
        "   (\n",
        "       r\"You\\'re(.*)\",\n",
        "       (\n",
        "           \"More like YOU'RE %1!\",\n",
        "           \"Hah! Look who's talking.\",\n",
        "           \"Come over here and tell me I'm %1.\",\n",
        "       ),\n",
        "   ),\n",
        "   (\n",
        "       r\"You are(.*)\",\n",
        "       (\n",
        "           \"More like YOU'RE %1!\",\n",
        "           \"Hah! Look who's talking.\",\n",
        "           \"Come over here and tell me I'm %1.\",\n",
        "       ),\n",
        "   ),\n",
        "   (\n",
        "       r\"I can\\'t(.*)\",\n",
        "       (\n",
        "           \"You do sound like the type who can't %1.\",\n",
        "           \"Hear that splashing sound? That's my heart bleeding for you.\",\n",
        "           \"Tell somebody who might actually care.\",\n",
        "       ),\n",
        "   ),\n",
        "   (\n",
        "       r\"I think (.*)\",\n",
        "       (\n",
        "           \"I wouldn't think too hard if I were you.\",\n",
        "           \"You actually think? I'd never have guessed...\",\n",
        "       ),\n",
        "   ),\n",
        "   (\n",
        "       r\"I (.*)\",\n",
        "       (\n",
        "           \"I'm getting a bit tired of hearing about you.\",\n",
        "           \"How about we talk about me instead?\",\n",
        "           \"Me, me, me... Frankly, I don't care.\",\n",
        "       ),\n",
        "   ),\n",
        "   (\n",
        "       r\"How (.*)\",\n",
        "       (\n",
        "           \"How do you think?\",\n",
        "           \"Take a wild guess.\",\n",
        "           \"I'm not even going to dignify that with an answer.\",\n",
        "       ),\n",
        "   ),\n",
        "   (r\"What (.*)\", (\"Do I look like an encyclopedia?\", \"Figure it out yourself.\")),\n",
        "   (\n",
        "       r\"Why (.*)\",\n",
        "       (\n",
        "           \"Why not?\",\n",
        "           \"That's so obvious I thought even you'd have already figured it out.\",\n",
        "       ),\n",
        "   ),\n",
        "   (\n",
        "       r\"(.*)shut up(.*)\",\n",
        "       (\n",
        "           \"Make me.\",\n",
        "           \"Getting angry at a feeble chatbot? Somebody's losing it.\",\n",
        "           \"Say that again, I dare you.\",\n",
        "       ),\n",
        "   ),\n",
        "   (\n",
        "       r\"Shut up(.*)\",\n",
        "       (\n",
        "           \"Make me.\",\n",
        "           \"Getting angry at a feeble chatbot? Somebody's losing it.\",\n",
        "           \"Say that again, I dare you.\",\n",
        "       ),\n",
        "   ),\n",
        "   (\n",
        "       r\"Hello(.*)\",\n",
        "       (\"Oh good, somebody else to talk to. Joy.\", \"'Hello'? How original...\"),\n",
        "   ),\n",
        "   (\n",
        "       r\"(.*)\",\n",
        "       (\n",
        "           \"I'm getting bored here. Become more interesting.\",\n",
        "           \"Either become more thrilling or get lost, buddy.\",\n",
        "           \"Change the subject before I die of fatal boredom.\",\n",
        "           \"lalala look its raining outside or is it? *looks at you*\",\n",
        "       ),\n",
        "   ),\n",
        ")\n",
        "\n"
      ],
      "execution_count": 4,
      "outputs": []
    },
    {
      "cell_type": "code",
      "metadata": {
        "colab": {
          "base_uri": "https://localhost:8080/"
        },
        "id": "6F5CtjIJRT4U",
        "outputId": "31e23331-0507-4e88-9050-ed410bd42eb5"
      },
      "source": [
        "rude_chatbot = Chat(pairs, reflections)\n",
        "\n",
        "\n",
        "def rude_chat():\n",
        "   print(\"Talk to the naughty and rude LeenaBot by typing in plain English, using normal upper-\")\n",
        "   print('and lower-case letters and punctuation.  Enter \"quit\" when done.')\n",
        "   print(\"=\" * 72)\n",
        "   print(\"I suppose I should say hello.\")\n",
        "\n",
        "   rude_chatbot.converse()\n",
        "def demo():\n",
        "   rude_chat()\n",
        "if __name__ == \"__main__\":\n",
        "   demo()"
      ],
      "execution_count": 6,
      "outputs": [
        {
          "output_type": "stream",
          "name": "stdout",
          "text": [
            "Talk to the naughty and rude LeenaBot by typing in plain English, using normal upper-\n",
            "and lower-case letters and punctuation.  Enter \"quit\" when done.\n",
            "========================================================================\n",
            "I suppose I should say hello.\n",
            ">hello to you too\n",
            "Oh good, somebody else to talk to. Joy.\n",
            ">right. What's up?\n",
            "I'm getting bored here. Become more interesting.\n",
            ">Trying! Why don't you become interesting\n",
            "Change the subject before I die of fatal boredom.\n",
            ">Why don't you change the subject?\n",
            "Why not?\n",
            ">Why not?\n",
            "Why not?\n",
            ">fine. Is it raining?\n",
            "Change the subject before I die of fatal boredom.\n",
            ">how are you doing today?\n",
            "Take a wild guess.\n",
            ">not well, i guess?\n",
            "Change the subject before I die of fatal boredom.\n",
            ">ok bye\n",
            "Change the subject before I die of fatal boredom.\n",
            ">quit\n",
            "I'm getting bored here. Become more interesting.\n"
          ]
        }
      ]
    },
    {
      "cell_type": "code",
      "metadata": {
        "id": "ct3483_PQuEZ"
      },
      "source": [
        ""
      ],
      "execution_count": null,
      "outputs": []
    }
  ]
}